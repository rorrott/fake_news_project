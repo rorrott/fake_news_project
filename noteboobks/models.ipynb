{
 "cells": [
  {
   "cell_type": "code",
   "execution_count": 7,
   "metadata": {},
   "outputs": [],
   "source": [
    "import pandas as pd\n",
    "import os\n",
    "import re\n",
    "from nltk.corpus import stopwords\n",
    "from nltk.tokenize import word_tokenize\n",
    "from nltk.stem import PorterStemmer\n",
    "import string\n",
    "from sklearn.feature_extraction.text import TfidfVectorizer\n",
    "from sklearn.model_selection import train_test_split\n",
    "from sklearn.linear_model import LogisticRegression\n",
    "from sklearn.ensemble import RandomForestClassifier, AdaBoostClassifier\n",
    "from sklearn.tree import DecisionTreeClassifier\n",
    "from sklearn.metrics import accuracy_score, classification_report\n",
    "from imblearn.over_sampling import SMOTE\n",
    "from scipy.sparse import hstack\n",
    "import pickle"
   ]
  },
  {
   "cell_type": "markdown",
   "metadata": {},
   "source": [
    "---\n",
    "## 1. Loading the data\n",
    "---"
   ]
  },
  {
   "cell_type": "code",
   "execution_count": 11,
   "metadata": {},
   "outputs": [],
   "source": [
    "# Get the current directory of the notebook\n",
    "notebook_dir = os.path.dirname(os.path.abspath('__file__'))\n",
    "csv_file_path_1 = os.path.join(notebook_dir, '../data/train_bodies.csv')\n",
    "csv_file_path_2 = os.path.join(notebook_dir, '../data/train_stances.csv')"
   ]
  },
  {
   "cell_type": "code",
   "execution_count": 12,
   "metadata": {},
   "outputs": [],
   "source": [
    "df_1 = pd.read_csv(csv_file_path_1)\n",
    "df_2 = pd.read_csv(csv_file_path_2)\n",
    "# Joining both dataset\n",
    "data = pd.merge(df_1, df_2, on='Body ID', how='left')\n",
    "duplicates_to_drop = data[data['Stance'] == 'unrelated'].duplicated()\n",
    "# Invert the boolean Series to keep non-duplicate rows in 'unrelated' class\n",
    "data_2 = data[~(duplicates_to_drop & (data['Stance'] == 'unrelated'))]\n",
    "df_model = data_2.copy() # Making a copying of data_2\n",
    "random_seed = 42\n",
    "df_model_sample = df_model.sample(n=10000, random_state=random_seed)"
   ]
  },
  {
   "cell_type": "code",
   "execution_count": 13,
   "metadata": {},
   "outputs": [],
   "source": [
    "# Separate features and labels\n",
    "X_headline = df_model_sample['Headline']\n",
    "X_article = df_model_sample['articleBody']\n",
    "label_mapping = {'unrelated': 0, 'agree': 1, 'discuss': 2, 'disagree': 3}\n",
    "y = df_model_sample['Stance'].map(label_mapping)"
   ]
  },
  {
   "cell_type": "markdown",
   "metadata": {},
   "source": [
    "---\n",
    "## 2. Functions to Clean the Data\n",
    "---"
   ]
  },
  {
   "cell_type": "code",
   "execution_count": 14,
   "metadata": {},
   "outputs": [],
   "source": [
    "# Text preprocessing functions\n",
    "def     clean_text(text):\n",
    "\n",
    "    text = text.lower()  \n",
    "    text = re.sub(r'\\d+', '', text)  \n",
    "    text = text.translate(str.maketrans('', '', string.punctuation)) \n",
    "    return text"
   ]
  },
  {
   "cell_type": "code",
   "execution_count": 15,
   "metadata": {},
   "outputs": [],
   "source": [
    "def     tokenize_and_stem(text):\n",
    "    \n",
    "    tokens = word_tokenize(text)\n",
    "    stemmer = PorterStemmer()\n",
    "    tokens = [stemmer.stem(token) for token in tokens if token not in stopwords.words('english')]\n",
    "    return \" \".join(tokens)"
   ]
  },
  {
   "cell_type": "markdown",
   "metadata": {},
   "source": [
    "---\n",
    "## 3. Splitting the dataset into train and test sets\n",
    "---"
   ]
  },
  {
   "cell_type": "code",
   "execution_count": 16,
   "metadata": {},
   "outputs": [],
   "source": [
    "# Split the dataset into train and test sets\n",
    "X_headline_train, X_headline_test, X_article_train, X_article_test, y_train, y_test = train_test_split(\n",
    "    X_headline, X_article, y, test_size=0.2, random_state=42\n",
    ")"
   ]
  },
  {
   "cell_type": "code",
   "execution_count": 17,
   "metadata": {},
   "outputs": [],
   "source": [
    "# Cleaning the dataset\n",
    "X_headline_train_cleaned = X_headline_train.apply(clean_text)\n",
    "X_article_train_cleaned = X_article_train.apply(clean_text)\n",
    "X_headline_test_cleaned = X_headline_test.apply(clean_text)\n",
    "X_article_test_cleaned = X_article_test.apply(clean_text)"
   ]
  },
  {
   "cell_type": "code",
   "execution_count": 18,
   "metadata": {},
   "outputs": [],
   "source": [
    "# Cleaning still\n",
    "X_headline_train_preprocessed = X_headline_train_cleaned.apply(tokenize_and_stem)\n",
    "X_article_train_preprocessed = X_article_train_cleaned.apply(tokenize_and_stem)"
   ]
  },
  {
   "cell_type": "code",
   "execution_count": 19,
   "metadata": {},
   "outputs": [],
   "source": [
    "# Cleaning\n",
    "X_headline_test_preprocessed = X_headline_test_cleaned.apply(tokenize_and_stem)\n",
    "X_article_test_preprocessed = X_article_test_cleaned.apply(tokenize_and_stem)"
   ]
  },
  {
   "cell_type": "markdown",
   "metadata": {},
   "source": [
    "---\n",
    "## 4. Text Preprocessing\n",
    "---"
   ]
  },
  {
   "cell_type": "code",
   "execution_count": 20,
   "metadata": {},
   "outputs": [],
   "source": [
    "# Initialize TF-IDF vectorizers for headline and article body\n",
    "tfidf_headline = TfidfVectorizer(max_features=3638, ngram_range=(1, 2))\n",
    "tfidf_article = TfidfVectorizer(max_features=27336, ngram_range=(1, 2))\n",
    "\n",
    "X_headline_train_tfidf = tfidf_headline.fit_transform(X_headline_train_preprocessed)\n",
    "X_article_train_tfidf = tfidf_article.fit_transform(X_article_train_preprocessed)\n",
    "X_headline_test_tfidf = tfidf_headline.transform(X_headline_test_preprocessed)\n",
    "X_article_test_tfidf = tfidf_article.transform(X_article_test_preprocessed)"
   ]
  },
  {
   "cell_type": "markdown",
   "metadata": {},
   "source": [
    "---\n",
    "## 5. Data Augmentation using SMOTE\n",
    "---\n"
   ]
  },
  {
   "cell_type": "code",
   "execution_count": 25,
   "metadata": {},
   "outputs": [],
   "source": [
    "# Data Augmentation using SMOTE\n",
    "smote_headline = SMOTE(sampling_strategy='auto', random_state=42)\n",
    "X_headline_train_tfidf_resampled, y_headline_train_resampled = smote_headline.fit_resample(X_headline_train_tfidf, y_train)\n",
    "\n",
    "smote_article = SMOTE(sampling_strategy='auto', random_state=42)\n",
    "X_article_train_tfidf_resampled, y_article_train_resampled = smote_article.fit_resample(X_article_train_tfidf, y_train)"
   ]
  },
  {
   "cell_type": "markdown",
   "metadata": {},
   "source": [
    "---\n",
    "## 6. Combine Features\n",
    "---"
   ]
  },
  {
   "cell_type": "code",
   "execution_count": 26,
   "metadata": {},
   "outputs": [],
   "source": [
    "# Combine Features\n",
    "X_train_combined = hstack((X_headline_train_tfidf_resampled, X_article_train_tfidf_resampled))\n",
    "X_test_combined = hstack((X_headline_test_tfidf, X_article_test_tfidf))"
   ]
  },
  {
   "cell_type": "markdown",
   "metadata": {},
   "source": [
    "---\n",
    "## 7. Model\n",
    "---"
   ]
  },
  {
   "cell_type": "code",
   "execution_count": 27,
   "metadata": {},
   "outputs": [
    {
     "name": "stdout",
     "output_type": "stream",
     "text": [
      "Accuracy: 0.747\n",
      "Classification Report:\n",
      "               precision    recall  f1-score   support\n",
      "\n",
      "           0       0.87      0.81      0.84      1488\n",
      "           1       0.39      0.50      0.44       147\n",
      "           2       0.54      0.60      0.57       333\n",
      "           3       0.31      0.47      0.38        32\n",
      "\n",
      "    accuracy                           0.75      2000\n",
      "   macro avg       0.53      0.60      0.55      2000\n",
      "weighted avg       0.77      0.75      0.76      2000\n",
      "\n"
     ]
    }
   ],
   "source": [
    "lr_model = LogisticRegression(max_iter=10000, class_weight='balanced', solver='saga', C=10, multi_class='multinomial')\n",
    "lr_model.fit(X_train_combined, y_headline_train_resampled)\n",
    "\n",
    "y_pred = lr_model.predict(X_test_combined)\n",
    "accuracy = accuracy_score(y_test, y_pred)\n",
    "classification_rep = classification_report(y_test, y_pred)\n",
    "\n",
    "print(\"Accuracy:\", accuracy)\n",
    "print(\"Classification Report:\\n\", classification_rep)"
   ]
  },
  {
   "cell_type": "code",
   "execution_count": 28,
   "metadata": {},
   "outputs": [
    {
     "name": "stdout",
     "output_type": "stream",
     "text": [
      "Accuracy: 0.793\n",
      "Classification Report:\n",
      "               precision    recall  f1-score   support\n",
      "\n",
      "           0       0.85      0.91      0.88      1488\n",
      "           1       0.37      0.30      0.33       147\n",
      "           2       0.68      0.53      0.60       333\n",
      "           3       0.29      0.28      0.29        32\n",
      "\n",
      "    accuracy                           0.79      2000\n",
      "   macro avg       0.55      0.51      0.52      2000\n",
      "weighted avg       0.78      0.79      0.78      2000\n",
      "\n"
     ]
    }
   ],
   "source": [
    "rf_model = RandomForestClassifier(n_estimators=600, class_weight='balanced', random_state=42, criterion='entropy',\n",
    "                                 max_depth=40, min_samples_leaf=2)\n",
    "\n",
    "rf_model.fit(X_train_combined, y_headline_train_resampled)\n",
    "\n",
    "y_pred = rf_model.predict(X_test_combined)\n",
    "accuracy = accuracy_score(y_test, y_pred)\n",
    "classification_rep = classification_report(y_test, y_pred)\n",
    "\n",
    "print(\"Accuracy:\", accuracy)\n",
    "print(\"Classification Report:\\n\", classification_rep)"
   ]
  },
  {
   "cell_type": "code",
   "execution_count": 29,
   "metadata": {},
   "outputs": [
    {
     "name": "stdout",
     "output_type": "stream",
     "text": [
      "Accuracy: 0.8415\n",
      "Decision Tree Classification Report:\n",
      "               precision    recall  f1-score   support\n",
      "\n",
      "           0       0.90      0.94      0.92      1488\n",
      "           1       0.46      0.39      0.42       147\n",
      "           2       0.73      0.66      0.69       333\n",
      "           3       0.57      0.38      0.45        32\n",
      "\n",
      "    accuracy                           0.84      2000\n",
      "   macro avg       0.66      0.59      0.62      2000\n",
      "weighted avg       0.83      0.84      0.84      2000\n",
      "\n"
     ]
    }
   ],
   "source": [
    "dt_clf = DecisionTreeClassifier(max_depth=60, random_state=42, class_weight='balanced', criterion='entropy',\n",
    "                                min_samples_split=4)\n",
    "dt_clf.fit(X_train_combined, y_headline_train_resampled)\n",
    "\n",
    "y_pred = dt_clf.predict(X_test_combined)\n",
    "accuracy = accuracy_score(y_test, y_pred)\n",
    "classification_rep = classification_report(y_test, y_pred)\n",
    "\n",
    "print(\"Accuracy:\", accuracy)\n",
    "print(\"Decision Tree Classification Report:\\n\", classification_rep)"
   ]
  },
  {
   "cell_type": "code",
   "execution_count": 30,
   "metadata": {},
   "outputs": [
    {
     "name": "stdout",
     "output_type": "stream",
     "text": [
      "Accuracy: 0.881\n",
      "Classification Report:\n",
      "               precision    recall  f1-score   support\n",
      "\n",
      "           0       0.91      0.97      0.94      1488\n",
      "           1       0.61      0.44      0.51       147\n",
      "           2       0.86      0.73      0.79       333\n",
      "           3       0.52      0.34      0.42        32\n",
      "\n",
      "    accuracy                           0.88      2000\n",
      "   macro avg       0.73      0.62      0.66      2000\n",
      "weighted avg       0.87      0.88      0.87      2000\n",
      "\n"
     ]
    }
   ],
   "source": [
    "from xgboost import XGBClassifier\n",
    "\n",
    "xgb_model = XGBClassifier(max_depth=40, n_estimators=600, learning_rate=0.1, random_state=42)\n",
    "\n",
    "xgb_model.fit(X_train_combined, y_headline_train_resampled)\n",
    "y_pred = xgb_model.predict(X_test_combined)\n",
    "accuracy = accuracy_score(y_test, y_pred)\n",
    "classification_rep = classification_report(y_test, y_pred)\n",
    "\n",
    "print(\"Accuracy:\", accuracy)\n",
    "print(\"Classification Report:\\n\", classification_rep)"
   ]
  },
  {
   "cell_type": "code",
   "execution_count": null,
   "metadata": {},
   "outputs": [],
   "source": [
    "\n",
    "# Save the trained models\n",
    "#with open('Log_reg_model.pkl', 'wb') as f:\n",
    "#    pickle.dump(lr_model, f)\n",
    "\n",
    "#with open('RF_clf.pkl', 'wb') as f:\n",
    "#    pickle.dump(rf_model, f)\n",
    "\n",
    "#with open('DT_clf.pkl', 'wb') as f:\n",
    "#    pickle.dump(dt_clf, f)\n",
    "\n",
    "#with open('xgb_model.pkl', 'wb') as f:\n",
    "#    pickle.dump(xgb_model, f)"
   ]
  }
 ],
 "metadata": {
  "kernelspec": {
   "display_name": "Python 3",
   "language": "python",
   "name": "python3"
  },
  "language_info": {
   "codemirror_mode": {
    "name": "ipython",
    "version": 3
   },
   "file_extension": ".py",
   "mimetype": "text/x-python",
   "name": "python",
   "nbconvert_exporter": "python",
   "pygments_lexer": "ipython3",
   "version": "3.11.5"
  },
  "orig_nbformat": 4
 },
 "nbformat": 4,
 "nbformat_minor": 2
}
